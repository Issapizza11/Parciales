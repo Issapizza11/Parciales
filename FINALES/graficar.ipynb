{
 "cells": [
  {
   "cell_type": "code",
   "execution_count": null,
   "id": "c1c6b218",
   "metadata": {},
   "outputs": [],
   "source": [
    "import pandas as pd\n",
    "import matplotlib.pyplot as plt\n",
    "\n",
    "# Archivos CSV\n",
    "files = {\n",
    "    \"Malla 100\": \"benchmark_lbm_parallel-m100.csv\",\n",
    "    \"Malla 500\": \"benchmark_lbm_parallel-m500.csv\"\n",
    "}\n",
    "\n",
    "# Métricas a graficar\n",
    "metricas = [\"ipc\", \"instructions\", \"cycles\", \"cache_miss\", \"tiempo\", \"mlups\"]\n",
    "\n",
    "# Colores (opcional)\n",
    "colores = {\n",
    "    \"Malla 100\": \"#1f77b4\",  # azul\n",
    "    \"Malla 500\": \"#ff7f0e\"   # naranja\n",
    "}\n",
    "\n",
    "# Cargar los datos\n",
    "data = {}\n",
    "for nombre, archivo in files.items():\n",
    "    df = pd.read_csv(archivo, sep=r\"[\\t,]\", engine=\"python\")\n",
    "    data[nombre] = df\n",
    "\n",
    "# Crear subplots por métrica\n",
    "for metrica in metricas:\n",
    "    fig, axs = plt.subplots(2, 1, figsize=(8, 7), sharex=True)\n",
    "\n",
    "    for i, (nombre, df) in enumerate(data.items()):\n",
    "        axs[i].plot(df['hilos'], df[metrica], marker='o', linestyle='-', color=colores[nombre])\n",
    "        axs[i].set_ylabel(metrica.capitalize())\n",
    "        axs[i].set_title(f\"{metrica.capitalize()} - {nombre}\")\n",
    "        axs[i].grid(True)\n",
    "\n",
    "    axs[1].set_xlabel(\"Hilos\")\n",
    "    plt.tight_layout()\n",
    "    plt.savefig(f\"{metrica}_vs_hilos_subplot.png\", dpi=300)\n",
    "    plt.close()"
   ]
  }
 ],
 "metadata": {
  "kernelspec": {
   "display_name": "sistemas",
   "language": "python",
   "name": "python3"
  },
  "language_info": {
   "codemirror_mode": {
    "name": "ipython",
    "version": 3
   },
   "file_extension": ".py",
   "mimetype": "text/x-python",
   "name": "python",
   "nbconvert_exporter": "python",
   "pygments_lexer": "ipython3",
   "version": "3.11.2"
  }
 },
 "nbformat": 4,
 "nbformat_minor": 5
}
